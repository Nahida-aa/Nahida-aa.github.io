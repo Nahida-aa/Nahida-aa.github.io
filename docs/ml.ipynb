{
 "cells": [
  {
   "cell_type": "markdown",
   "id": "4c09afdf",
   "metadata": {},
   "source": [
    "---\n",
    "title: ML\n",
    "description: \"机器学习是一种人工智能的分支，旨在通过数据和算法使计算机系统能够自动改进其性能。\"\n",
    "created_at: 2025-04-18T01:06:10Z\n",
    "updated_at: 2025-04-18T01:06:10Z\n",
    "tags: [ML]\n",
    "---"
   ]
  },
  {
   "cell_type": "markdown",
   "id": "aeb52df9",
   "metadata": {},
   "source": [
    "## 线性回归"
   ]
  },
  {
   "cell_type": "code",
   "execution_count": null,
   "id": "eae039d1",
   "metadata": {},
   "outputs": [],
   "source": [
    "# 身高\n",
    "data =   [40, 80, 50, 75, 120]\n",
    "# 体重\n",
    "target = [20, 70, 35, 50, 85 ]\n",
    "\n",
    "# 绘制图像\n",
    "import matplotlib.pyplot as plt # pip install matplotlib\n",
    "# 设置中文 字体\n",
    "# 以下命令查找字体路径\n",
    "# fc-list :lang=zh\n",
    "from matplotlib import rcParams\n",
    "# 设置字体为思源黑体\n",
    "rcParams['font.sans-serif'] = ['Source Han Sans CN']  # 设置字体\n",
    "rcParams['axes.unicode_minus'] = False  # 解决负号显示问题\n",
    "# plt.figure(figsize=(10, 6))\n",
    "plt.scatter(data, target, color='blue', label='人')\n",
    "plt.title('身高-体重')\n",
    "plt.xlabel('身高')\n",
    "plt.ylabel('体重')\n",
    "plt.legend()\n",
    "plt.grid()\n",
    "plt.show()\n",
    "# 线性回归\n",
    "from sklearn.linear_model import LinearRegression # pip install scikit-learn\n",
    "# 训练模型\n",
    "model = LinearRegression()\n",
    "# 训练数据\n",
    "X = [[i] for i in data]\n",
    "Y = target\n",
    "model.fit(X, Y)\n",
    "# 预测\n",
    "pred = model.predict([[100]])\n",
    "# 打印模型参数\n",
    "print('截距:', model.intercept_)\n",
    "print('斜率:', model.coef_)\n",
    "print('预测体重:', pred)\n",
    "# 画出回归线\n",
    "import numpy as np\n",
    "# 生成数据\n",
    "x = np.linspace(0, 150, 100)\n",
    "y = model.predict(x.reshape(-1, 1))\n",
    "\n",
    "plt.figure(figsize=(10, 6))\n",
    "# 绘制回归线\n",
    "plt.plot(x, y, color='red', label='回归线')\n",
    "# 绘制散点图\n",
    "plt.scatter(data, target, color='blue', label='人')\n",
    "plt.title('身高-体重')\n",
    "plt.xlabel('身高')\n",
    "plt.ylabel('体重')\n",
    "plt.legend()\n",
    "plt.grid()\n",
    "plt.show()"
   ]
  },
  {
   "cell_type": "markdown",
   "id": "d464cc29",
   "metadata": {},
   "source": [
    "### 预测函数\n",
    "$$\n",
    "% 对齐\n",
    "\\begin{align*}\n",
    "\\hat{y} &= kx + b \\\\ \n",
    "\\hat{y} &= w_1 x_1 + w_2 x_2 + ... + w_n x_n + b \\\\\n",
    "&= \\sum_{i=1}^n w_i x_i + b \\\\\n",
    "&= w^T x + b \\\\\n",
    "\\end{align*}\n",
    "$$\n",
    "也有如下写法:\n",
    "$$\n",
    "\\begin{align*}\n",
    "h_\\theta(x) &= \\theta_0 + \\theta_1 x_1 + \\theta_2 x_2 + ... + \\theta_n x_n \\\\\n",
    "&= \\sum_{i=0}^n \\theta_i x_i \\ , \\quad x_0 = 1 \\\\\n",
    "&= \\theta^T x\n",
    "\\end{align*}\n",
    "$$"
   ]
  },
  {
   "cell_type": "markdown",
   "id": "469926bd",
   "metadata": {},
   "source": [
    "### 损失函数\n",
    "\n",
    "而真实值和预测值之间的差异称为**损失、误差**, 记作 $\\epsilon$\n",
    "\n",
    "对于每个样本, 符合如下表达式:\n",
    "$$\n",
    "\\begin{align*}\n",
    "y^{(i)} &= h_\\theta(x^{(i)}) + \\epsilon^{(i)} \\\\\n",
    "\\end{align*}\n",
    "$$\n",
    "\n",
    "误差 $\\epsilon^{(i)}$ 是独立并且具有相同的分布, 并且服从均值为 0, 方差为 **$\\theta^T\\theta$** 的正态分布:\n",
    "$$\n",
    "\\begin{align*}\n",
    "x &\\sim \\mathcal{N}(0, \\sigma^2) \\\\\n",
    "p(x) &= \\frac{1}{\\sqrt{2\\pi}\\sigma} e^{-\\frac{x^2}{2\\sigma^2}} \\\\\n",
    "\\end{align*}\n",
    "$$\n",
    "那么:\n",
    "$$\n",
    "\\begin{align*}\n",
    "\\epsilon^{(i)} &\\sim \\mathcal{N}(0, \\theta^2) \\\\\n",
    "p(\\epsilon^{(i)}) &= \\frac{1}{\\sqrt{2\\pi}\\theta} e^{-\\frac{\\epsilon^{(i)2}}{2\\theta^2}} \\\\\n",
    "\\end{align*}\n",
    "$$"
   ]
  },
  {
   "cell_type": "markdown",
   "id": "abe771c4",
   "metadata": {},
   "source": [
    "线性回归使用 **均方误差(MSE, Mean Squared Error)** 作为损失函数，定义为：\n",
    "\n",
    "$$ \\text{MSE} = \\frac{1}{m} \\sum_{i=1}^m (y_i - \\hat{y}_i)^2 $$ \n",
    "其中：\n",
    "\n",
    "- $ m $：样本数量\n",
    "- $ y_i $：第 $ i $ 个样本的真实值\n",
    "- $ \\hat{y}_i $：第 $ i $ 个样本的预测值\n",
    "\n",
    "目标是最小化损失函数 $ \\text{MSE} $，即找到最优的 $ \\mathbf{w} $ 和 $ b $。"
   ]
  },
  {
   "cell_type": "markdown",
   "id": "bac041d6",
   "metadata": {},
   "source": [
    "> [!NOTE]\n",
    "> 注意其实还有其他的损失函数, 比如 MAE(Mean Absolute Error)\n",
    "> 为什么选择 MSE 可以通过 最大似然估计来解释。假设误差服从正态分布，最小化 MSE 等价于最大化似然函数。"
   ]
  },
  {
   "cell_type": "markdown",
   "id": "cf3167e6",
   "metadata": {},
   "source": [
    "#### 似然函数\n",
    "似然函数是统计学中的一个核心概念，用于衡量模型参数在给定数据下的“可能性”。假设我们有一个数据集 ${(x_i, y_i)}_{i=1}^n$，以及一个模型 $y = f(x; \\theta)$，其中 $\\theta$ 是模型的参数。\n",
    "\n",
    "似然函数定义为： $$L(\\theta) = P(y_1, y_2, \\dots, y_n \\mid x_1, x_2, \\dots, x_n; \\theta)$$ 即在给定输入数据 $x$ 的情况下，输出数据 $y$ 的联合概率分布。\n",
    "\n",
    "为了方便计算，通常取对数似然函数： $$\\ell(\\theta) = \\log L(\\theta)$$"
   ]
  },
  {
   "cell_type": "markdown",
   "id": "ef23ee6f",
   "metadata": {},
   "source": [
    "## Logistic 回归\n",
    "是一种用于二分类问题的线性模型。它通过将线性回归的输出映射到 $[0, 1]$ 区间来实现分类。\n",
    "- **线性回归**：预测的是连续值，模型形式为： $ y = \\mathbf{w}^T \\mathbf{x} + b $\n",
    "- **Logistic 回归**：预测的是二分类问题(0或1)，模型形式为： $ P(y=1 \\mid \\mathbf{x}) = \\sigma(\\mathbf{w}^T \\mathbf{x} + b) $，其中 $\\sigma(z) = \\frac{1}{1 + e^{-z}}$ 是 sigmoid 函数。\n",
    "\n",
    "这个函数 将 输出映射到 (0, 1) 之间，这样就完成了 值 到 概率的转换"
   ]
  },
  {
   "cell_type": "code",
   "execution_count": 4,
   "id": "ac48b326",
   "metadata": {},
   "outputs": [
    {
     "data": {
      "image/png": "[encoded data removed]",
      "text/plain": [
       "<Figure size 1000x600 with 1 Axes>"
      ]
     },
     "metadata": {},
     "output_type": "display_data"
    }
   ],
   "source": [
    "# 绘制 \\frac{1}{1 + e^{-z}}\n",
    "import numpy as np\n",
    "import matplotlib.pyplot as plt\n",
    "# 生成数据\n",
    "x = np.linspace(-10, 10, 100)\n",
    "# 计算 sigmoid 函数\n",
    "y = 1 / (1 + np.exp(-x))\n",
    "# 绘制图像\n",
    "plt.figure(figsize=(10, 6))\n",
    "plt.plot(x, y, color='blue')\n",
    "plt.title('Sigmoid 函数')\n",
    "plt.xlabel('x')\n",
    "plt.ylabel('y')\n",
    "plt.grid()\n",
    "plt.show()"
   ]
  },
  {
   "cell_type": "markdown",
   "id": "9ecaddf5",
   "metadata": {},
   "source": [
    "**预测函数**:\n",
    "$$\n",
    "\\begin{align*}\n",
    "h_\\theta(x) &= \\sigma(\\theta^T x) \\\\\n",
    "\\end{align*}\n",
    "$$\n",
    "\n",
    "**分类任务**:\n",
    "$$\n",
    "\\begin{equation}\n",
    "\\left\\{\n",
    "\\begin{array}{l}\n",
    "P(y = 1 \\mid x,\\theta) = h_\\theta(x) \\\\\n",
    "P(y = 0 \\mid x,\\theta) = 1 - h_\\theta(x)\n",
    "\\end{array}\n",
    "\\right.\n",
    "\\end{equation}\n",
    "$$\n",
    "\n",
    "**整合**:\n",
    "$$\n",
    "P(y \\mid x,\\theta) = \\prod_{i=1}^m P(y^{(i)} \\mid x^{(i)},\\theta) = \\prod_{i=1}^m h_\\theta(x^{(i)})^{y^{(i)}} (1 - h_\\theta(x^{(i)}))^{1 - y^{(i)}}\n",
    "$$\n"
   ]
  },
  {
   "cell_type": "markdown",
   "id": "85be8ed8",
   "metadata": {},
   "source": [
    "### OR\n",
    "逻辑回归能够得出比值比（Odds Ratio, OR）的原因在于其数学模型的构建方式与几率的定义直接相关。以下是详细的解释：\n",
    "\n",
    "#### **1. 逻辑回归的基本原理**\n",
    "逻辑回归用于预测二分类结果（如患病/不患病），其核心公式为：\n",
    "\\[\n",
    "P(Y=1|X) = \\frac{1}{1 + e^{-(\\beta_0 + \\beta_1 X_1 + \\beta_2 X_2 + \\ldots + \\beta_n X_n)}}\n",
    "\\]\n",
    "其中：\n",
    "- \\(P(Y=1|X)\\) 表示在自变量 \\(X\\) 的条件下，事件发生的概率。\n",
    "- \\(\\beta_0\\) 是截距项，\\(\\beta_1, \\beta_2, \\ldots, \\beta_n\\) 是自变量的回归系数。\n",
    "\n",
    "#### **2. 从概率到几率（Odds）**\n",
    "**几率（Odds）** 定义为事件发生概率与不发生概率的比值：\n",
    "\\[\n",
    "\\text{Odds} = \\frac{P(Y=1)}{P(Y=0)} = \\frac{P(Y=1)}{1 - P(Y=1)}\n",
    "\\]\n",
    "将逻辑回归公式代入，可得：\n",
    "\\[\n",
    "\\text{Odds} = e^{\\beta_0 + \\beta_1 X_1 + \\beta_2 X_2 + \\ldots + \\beta_n X_n}\n",
    "\\]\n",
    "\n",
    "#### **3. 逻辑回归系数与OR值的关系**\n",
    "假设我们关注自变量 \\(X_i\\)，其他变量保持不变。当 \\(X_i\\) 增加1个单位时，新的几率为：\n",
    "\\[\n",
    "\\text{New Odds} = e^{\\beta_0 + \\beta_1 X_1 + \\ldots + \\beta_i (X_i + 1) + \\ldots + \\beta_n X_n} = \\text{Original Odds} \\times e^{\\beta_i}\n",
    "\\]\n",
    "因此，**OR值** 即为新旧几率的比值：\n",
    "\\[\n",
    "OR = \\frac{\\text{New Odds}}{\\text{Original Odds}} = e^{\\beta_i}\n",
    "\\]\n",
    "\n",
    "#### **4. OR值的实际解释**\n",
    "- **OR > 1**：自变量 \\(X_i\\) 增加1单位时，事件发生的几率上升。\n",
    "- **OR = 1**：自变量 \\(X_i\\) 对事件几率无影响。\n",
    "- **OR < 1**：自变量 \\(X_i\\) 增加1单位时，事件发生的几率下降。\n",
    "\n",
    "**示例**：  \n",
    "若吸烟的回归系数 \\(\\beta = 0.693\\)，则：\n",
    "\\[\n",
    "OR = e^{0.693} \\approx 2\n",
    "\\]\n",
    "表示吸烟者的疾病发生几率是非吸烟者的2倍。\n",
    "\n",
    "#### **5. 注意事项**\n",
    "- **连续变量**：OR值解释为“每增加1单位的效应”。\n",
    "- **分类变量**：需编码为哑变量（如0/1），OR值表示某类别相对于参照组的效应。\n",
    "- **混杂因素**：需在模型中调整其他变量（如年龄、性别），以隔离目标变量的独立效应。\n",
    "- **样本量**：小样本可能导致OR值的置信区间宽泛，需谨慎解读。\n",
    "\n",
    "#### **总结**\n",
    "逻辑回归通过建模事件的对数几率（log odds），使得回归系数 \\(\\beta_i\\) 直接关联到OR值的自然对数。通过指数变换（\\(e^{\\beta_i}\\)），我们能够直观地解释自变量对事件发生几率的影响强度。这一特性使逻辑回归成为医学、社会科学等领域中评估风险因素的强大工具。"
   ]
  },
  {
   "cell_type": "code",
   "execution_count": null,
   "id": "0db10d88",
   "metadata": {},
   "outputs": [
    {
     "name": "stdout",
     "output_type": "stream",
     "text": [
      "             ID householdID communityID        hhid      hhidc pnc  pn  \\\n",
      "0  010104101001  0101041010     0101041  10104101.0  010104101  01   1   \n",
      "1  010104101002  0101041010     0101041  10104101.0  010104101  02   2   \n",
      "2  010104102001  0101041020     0101041  10104102.0  010104102  01   1   \n",
      "3  010104102002  0101041020     0101041  10104102.0  010104102  02   2   \n",
      "4  010104103001  0101041030     0101041  10104103.0  010104103  01   1   \n",
      "\n",
      "         ID_w1 householdID_w1         s1id  ...             s3satlife  \\\n",
      "0  01010410101      010104101  01010410102  ...  3.Somewhat satisfied   \n",
      "1  01010410102      010104101  01010410101  ...      4.Very satisfied   \n",
      "2  01010410201      010104102  01010410202  ...      4.Very satisfied   \n",
      "3  01010410202      010104102  01010410201  ...      4.Very satisfied   \n",
      "4  01010410301      010104103  01010410302  ...  2.Not very satisfied   \n",
      "\n",
      "              s4satlife r1satlifez  r2satlifez  r3satlifez  r4satlifez  \\\n",
      "0  3.Somewhat satisfied  -1.480748   -1.482353    0.773095   -0.305454   \n",
      "1  3.Somewhat satisfied  -1.480748   -0.147578   -0.503463   -0.305454   \n",
      "2      4.Very satisfied  -0.075163   -0.147578    0.773095   -0.305454   \n",
      "3  3.Somewhat satisfied  -1.480748   -0.147578    0.773095    0.936338   \n",
      "4  3.Somewhat satisfied  -1.480748   -0.147578   -0.503463   -0.305454   \n",
      "\n",
      "   s1satlifez s2satlifez s3satlifez  s4satlifez  \n",
      "0   -1.480748  -0.147578  -0.503463   -0.305454  \n",
      "1   -1.480748  -1.482352   0.773095   -0.305454  \n",
      "2   -1.480748  -0.147578   0.773095    0.936338  \n",
      "3   -0.075163  -0.147578   0.773095   -0.305454  \n",
      "4   -0.075163  -1.482352  -1.780021   -0.305454  \n",
      "\n",
      "[5 rows x 3399 columns]\n"
     ]
    }
   ],
   "source": [
    "import pandas as pd # pip install pandas pyreadstat\n",
    "\n",
    "# 读取 .dta 文件\n",
    "file_path = \"/home/aa/Downloads/H_CHARLS_D_Data.dta\"\n",
    "data = pd.read_stata(file_path)\n",
    "\n",
    "# 查看数据\n",
    "print(data.head())"
   ]
  },
  {
   "cell_type": "code",
   "execution_count": null,
   "id": "5086537d",
   "metadata": {},
   "outputs": [
    {
     "name": "stdout",
     "output_type": "stream",
     "text": [
      "<class 'pandas.core.frame.DataFrame'>\n",
      "RangeIndex: 25586 entries, 0 to 25585\n",
      "Columns: 3399 entries, ID to s4satlifez\n",
      "dtypes: category(2160), float32(518), float64(705), int8(3), object(13)\n",
      "memory usage: 243.8+ MB\n",
      "None\n"
     ]
    }
   ],
   "source": [
    "# 查看数据的基本信息\n",
    "print(data.info())\n"
   ]
  },
  {
   "cell_type": "markdown",
   "id": "787633ac",
   "metadata": {},
   "source": [
    "- 行数：25586 行（样本数量）。\n",
    "- 列数：3399 列（变量数量）\n",
    "- 数据类型：\n",
    "  - `category` ：2160 列，表示分类变量（通常是离散值，如性别、地区等）。\n",
    "  - `float32` ：518 列，表示 32 位浮点数（通常是数值型变量）。\n",
    "  - `float64` ：705 列，表示连续变量（更高精度的数值型变量）。\n",
    "  - `int8` ：3 列，表示 8 位整数（通常是小范围的整数值）\n",
    "  - `object` : 13 列，表示字符串或混合类型（如文本数据）。"
   ]
  },
  {
   "cell_type": "code",
   "execution_count": 7,
   "id": "0562057c",
   "metadata": {},
   "outputs": [
    {
     "name": "stdout",
     "output_type": "stream",
     "text": [
      "Index(['ID', 'householdID', 'communityID', 'hhid', 'hhidc', 'pnc', 'pn',\n",
      "       'ID_w1', 'householdID_w1', 's1id',\n",
      "       ...\n",
      "       's3satlife', 's4satlife', 'r1satlifez', 'r2satlifez', 'r3satlifez',\n",
      "       'r4satlifez', 's1satlifez', 's2satlifez', 's3satlifez', 's4satlifez'],\n",
      "      dtype='object', length=3399)\n"
     ]
    }
   ],
   "source": [
    "# 可以查看所有列名，了解数据的结构和变量\n",
    "print(data.columns)"
   ]
  },
  {
   "cell_type": "code",
   "execution_count": null,
   "id": "9200cde4",
   "metadata": {},
   "outputs": [],
   "source": [
    "data.to_csv(\"H_CHARLS_D_Data.csv\", index=False)"
   ]
  },
  {
   "cell_type": "code",
   "execution_count": null,
   "id": "3d41aac0",
   "metadata": {},
   "outputs": [],
   "source": [
    "# 查看数据的描述性统计\n",
    "# print(data.describe())"
   ]
  },
  {
   "cell_type": "markdown",
   "id": "584a3468",
   "metadata": {},
   "source": [
    "## 预处理"
   ]
  },
  {
   "cell_type": "markdown",
   "id": "29cda0af",
   "metadata": {},
   "source": [
    "### 分类变量\n",
    "\n",
    "在逻辑回归中，**哑变量（Dummy Encoding）** 是一种常用的编码方式，它会自动将多类别分类变量转换为多个二进制变量（0 或 1），但会**丢弃一个基准类别**，以避免多重共线性（Multicollinearity）。以下是详细解释：\n",
    "\n",
    "---\n",
    "\n",
    "### **1. 为什么三种值的分类变量哑变量后只有两个字段？**\n",
    "假设有一个分类变量 `cluster`，它有三个类别：`1`、`2` 和 `3`。在哑变量编码时：\n",
    "- `cluster=1` 被设为基准类别（Reference Category）。\n",
    "- `cluster=2` 和 `cluster=3` 被分别编码为两个二进制变量：\n",
    "  - `cluster_2`：`1` 表示 `cluster=2`，`0` 表示其他。\n",
    "  - `cluster_3`：`1` 表示 `cluster=3`，`0` 表示其他。\n",
    "\n",
    "因此，`cluster=1` 的信息可以通过 `cluster_2=0` 且 `cluster_3=0` 推导出来，不需要单独为 `cluster=1` 创建一个变量。\n",
    "\n",
    "这种方式避免了多重共线性问题，因为如果保留所有类别的哑变量，变量之间会存在线性依赖关系（即 `cluster_1 + cluster_2 + cluster_3 = 1`）。\n",
    "\n",
    "---\n",
    "\n",
    "### **2. 哑变量和独热编码的区别**\n",
    "| **编码方式**      | **特点**                                                                                     | **适用场景**                                                                 |\n",
    "|-------------------|---------------------------------------------------------------------------------------------|------------------------------------------------------------------------------|\n",
    "| **哑变量编码**    | - 丢弃一个基准类别，避免多重共线性。<br>- 生成 `n-1` 个二进制变量（`n` 是类别数）。          | - **逻辑回归**等线性模型，避免多重共线性问题。                               |\n",
    "| **独热编码**      | - 为每个类别生成一个二进制变量，不丢弃任何类别。<br>- 生成 `n` 个二进制变量。                | - **决策树**、**神经网络**等非线性模型，不受多重共线性影响。                 |\n",
    "\n",
    "---\n",
    "\n",
    "### **3. 为什么逻辑回归一般用哑变量？**\n",
    "逻辑回归是一种线性模型，要求自变量之间不能存在多重共线性。如果使用独热编码，所有类别的变量会同时存在，导致多重共线性问题，影响模型的稳定性和参数估计的准确性。\n",
    "\n",
    "#### **示例：哑变量编码**\n",
    "假设 `cluster` 有 3 个类别：\n",
    "```python\n",
    "import pandas as pd\n",
    "\n",
    "data = {'cluster': [1, 2, 3, 1, 2, 3]}\n",
    "df = pd.DataFrame(data)\n",
    "\n",
    "# 哑变量编码\n",
    "df_dummy = pd.get_dummies(df, columns=['cluster'], drop_first=True)\n",
    "print(df_dummy)\n",
    "```\n",
    "\n",
    "**输出**：\n",
    "```plaintext\n",
    "   cluster_2  cluster_3\n",
    "0          0          0\n",
    "1          1          0\n",
    "2          0          1\n",
    "3          0          0\n",
    "4          1          0\n",
    "5          0          1\n",
    "```\n",
    "\n",
    "- `cluster_2` 和 `cluster_3` 表示 `cluster=2` 和 `cluster=3` 的情况。\n",
    "- `cluster=1` 是基准类别，不需要单独编码。\n",
    "\n",
    "---\n",
    "\n",
    "### **4. 独热编码的示例**\n",
    "如果使用独热编码（One-Hot Encoding），则会为每个类别生成一个变量：\n",
    "```python\n",
    "# 独热编码\n",
    "df_onehot = pd.get_dummies(df, columns=['cluster'], drop_first=False)\n",
    "print(df_onehot)\n",
    "```\n",
    "\n",
    "**输出**：\n",
    "```plaintext\n",
    "   cluster_1  cluster_2  cluster_3\n",
    "0          1          0          0\n",
    "1          0          1          0\n",
    "2          0          0          1\n",
    "3          1          0          0\n",
    "4          0          1          0\n",
    "5          0          0          1\n",
    "```\n",
    "\n",
    "- `cluster_1`、`cluster_2` 和 `cluster_3` 都被编码为独立的二进制变量。\n",
    "- 这种方式适合非线性模型（如决策树、神经网络），因为它们不受多重共线性影响。\n",
    "\n",
    "---\n",
    "\n",
    "### **5. 总结**\n",
    "- **逻辑回归一般使用哑变量编码**，因为它会丢弃一个基准类别，避免多重共线性问题。\n",
    "- **独热编码**适用于非线性模型（如决策树、神经网络），因为这些模型不受多重共线性影响。\n",
    "- 在逻辑回归中，哑变量编码的结果是 `n-1` 个变量，而独热编码的结果是 `n` 个变量。\n",
    "\n",
    "如果你使用的是逻辑回归，请确保使用哑变量编码，并通过 `drop_first=True` 丢弃一个基准类别。"
   ]
  }
 ],
 "metadata": {
  "kernelspec": {
   "display_name": "base",
   "language": "python",
   "name": "python3"
  },
  "language_info": {
   "codemirror_mode": {
    "name": "ipython",
    "version": 3
   },
   "file_extension": ".py",
   "mimetype": "text/x-python",
   "name": "python",
   "nbconvert_exporter": "python",
   "pygments_lexer": "ipython3",
   "version": "3.12.9"
  }
 },
 "nbformat": 4,
 "nbformat_minor": 5
}
